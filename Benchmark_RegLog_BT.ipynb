{
 "cells": [
  {
   "cell_type": "markdown",
   "metadata": {},
   "source": [
    "# Backtracking Logistic regression\n",
    "\n",
    "This notebook is dedicated to numerical experiments for Logistic regression with $L^1$-regularization. The function to minimize is:\n",
    "\n",
    "$$\\min_{x\\in\\mathbb{R}^n} \\frac{\\lambda_1}{2\\|A^Tb\\|_\\infty}\\sum_{j=1}^m \\log \\left(1+e^{-b_ja_j^T x}\\right)+\\frac{\\lambda_2}{2}\\|x\\|^2+\\|x\\|_1,$$\n",
    "where $A\\in \\mathcal{M}_{m\\times n}(\\mathbb{R})$, $b\\in\\mathbb{R}^m$, $b_j\\in\\left\\{-1,1\\right\\}$ and $a_j=\\text{row}_j(A)$. This example was treated in \"Adaptive restart of accelerated gradient methods under local quadratic growth condition\" of Fercoq and Qu. \n",
    "\n",
    "Let us define $f:x\\mapsto \\frac{\\lambda_1}{2\\|A^Tb\\|_\\infty}\\sum_{j=1}^m \\log \\left(1+e^{-b_ja_j^T x}\\right)+\\frac{\\lambda_2}{2}\\|x\\|^2$ and $h:x\\mapsto\\|x\\|_1$. We have that \n",
    "$$\\nabla f(x)=-\\frac{\\lambda_1}{2\\|A^Tb\\|_\\infty}\\sum_{j=1}^m  \\frac{b_ja_j}{1+e^{b_ja_j^T x}}+\\lambda_2 x.$$\n",
    "An upper bound for the Lipschitz constant of $\\nabla f$ is $L=\\frac{\\lambda_1\\|A^Tb\\|^2}{8\\|A^Tb\\|_\\infty}+\\lambda_2$."
   ]
  },
  {
   "cell_type": "markdown",
   "metadata": {},
   "source": [
    "### Importing libraries, generating data and operators"
   ]
  },
  {
   "cell_type": "code",
   "execution_count": null,
   "metadata": {},
   "outputs": [],
   "source": [
    "#Importing libraries\n",
    "import numpy as np\n",
    "import scipy as scp\n",
    "import matplotlib.pyplot as plt\n",
    "import scipy.linalg as spl\n",
    "import time"
   ]
  },
  {
   "cell_type": "code",
   "execution_count": null,
   "metadata": {
    "tags": []
   },
   "outputs": [],
   "source": [
    "#Importing additional packages: algorithms.py contains the algorithms to apply and visualizer.py is useful to plot loss functions.\n",
    "import os.path\n",
    "if not os.path.isfile('./visualizer.py'):\n",
    "    !wget https://github.com/HippolyteLBRRR/Composite_optimization/raw/main/visualizer.py\n",
    "if not os.path.isfile('./algorithms.py'):\n",
    "    !wget https://github.com/HippolyteLBRRR/Composite_optimization/raw/main/algorithms.py\n",
    "from algorithms import *\n",
    "from visualizer import *"
   ]
  },
  {
   "cell_type": "code",
   "execution_count": null,
   "metadata": {},
   "outputs": [],
   "source": [
    "#Functions aiming to avoid overflow values inside exponential function (for example there is a problem computing\n",
    "#log(1+exp(x)) for large values of x)\n",
    "\n",
    "def log_exp(a,x):\n",
    "    #returns (log(1+exp(-a^T x)))\n",
    "    z=-np.dot(a,x)\n",
    "    return np.maximum(z, 0) + np.log(np.exp(-np.absolute(z)) + 1)\n",
    "\n",
    "def log_func(x):\n",
    "    #returns (1/(1+e^x))\n",
    "    return .5 * (1 + np.tanh(-.5 * x))"
   ]
  },
  {
   "cell_type": "code",
   "execution_count": null,
   "metadata": {},
   "outputs": [],
   "source": [
    "#Definition of the operators\n",
    "\n",
    "def f_LR(x,A,b,ba,l1,l2):\n",
    "    return l1*np.sum(log_exp(ba,x))+l2*npl.norm(x,2)**2/2\n",
    "def Df_LR(x,A,b,ba,l1,l2):\n",
    "    return l2*x-l1*np.sum(np.dot(ba.T,np.diag(log_func(np.dot(ba,x)))),axis=1)\n",
    "def operators_LR(A,b,l1,l2):\n",
    "    ba=np.dot(A.T,np.diag(b)).T\n",
    "    L1=l1/(2*np.max(np.absolute(ba)))\n",
    "    f = lambda x: f_LR(x,A,b,ba,L1,l2)\n",
    "    h = lambda x: npl.norm(x,1)\n",
    "    F = lambda x: f(x)+h(x)\n",
    "    Df = lambda x: Df_LR(x,A,b,ba,L1,l2)\n",
    "    proxh = lambda x,s:(x/(np.absolute(x)-1*(x==0)))*(np.absolute(x)-s)*(np.absolute(x)-s>0)\n",
    "    return F,f,h,Df,proxh"
   ]
  },
  {
   "cell_type": "code",
   "execution_count": null,
   "metadata": {},
   "outputs": [],
   "source": [
    "# Random sampling of A and b and computation of the corresponding operators\n",
    "n=30000\n",
    "m=100\n",
    "A=np.random.rand(m,n)\n",
    "b=np.random.randint(0,2,m)*2-1\n",
    "ba=np.dot(A.T,np.diag(b)).T\n",
    "# Regularization parameters (same choices as Fercoq and Qu)\n",
    "l1=1e1#1e2#1e0#\n",
    "L_log=l1*npl.norm(A,2)**2/(8*np.max(np.absolute(ba)))\n",
    "l2=L_log/(10*n)\n",
    "L=L_log+l2 # Computation of the upper bound of the Lipschitz constant\n",
    "\n",
    "\n",
    "x0=(np.random.uniform(-1,1,n))\n",
    "exit_crit=lambda x,xm:npl.norm(x-xm,2) #critère d'arrêt -> norme du gradient composite\n",
    "sp=lambda x,y:np.dot(x,y) #produit scalaire associé aux vecteurs\n",
    "F,f,h,Df,proxh=operators_LR(A,b,l1,l2)"
   ]
  },
  {
   "cell_type": "code",
   "execution_count": null,
   "metadata": {},
   "outputs": [],
   "source": [
    "Niter=5000 # Maximum number of iterations (backtracking iterations are not taken in account)\n",
    "epsilon=1e-8 # Expected accuracy on the composite gradient\n"
   ]
  },
  {
   "cell_type": "markdown",
   "metadata": {},
   "source": [
    "### Applying first-order methods to this problem"
   ]
  },
  {
   "cell_type": "code",
   "execution_count": null,
   "metadata": {},
   "outputs": [],
   "source": [
    "# Documentation for the algorithms:\n",
    "# help(FISTA)\n",
    "# help(FISTA_automatic_restart)\n",
    "# help(FISTA_BT)\n",
    "# help(Free_FISTA)"
   ]
  },
  {
   "cell_type": "code",
   "execution_count": null,
   "metadata": {},
   "outputs": [],
   "source": [
    "# FISTA\n",
    "xFISTA,coutFISTA,ctimeFISTA=FISTA(x0,1/L,Niter,epsilon,Df,proxh,F=F,exit_crit=exit_crit,track_ctime=True)\n",
    "Plot_FISTA=To_Plot(coutFISTA,\"FISTA\",ctimeFISTA) # To_Plot object -> visualization"
   ]
  },
  {
   "cell_type": "code",
   "execution_count": null,
   "metadata": {},
   "outputs": [],
   "source": [
    "# FISTA restart by ADLR\n",
    "xAR1,coutAR1,ctimeAR1=FISTA_automatic_restart(x0,1/L,Niter,epsilon,Df,proxh,F,exit_crit=exit_crit,track_ctime=True)\n",
    "Plot_AR1=To_Plot(coutAR1,\"Automatic FISTA restart (ADLR)\",ctimeAR1)"
   ]
  },
  {
   "cell_type": "code",
   "execution_count": null,
   "metadata": {},
   "outputs": [],
   "source": [
    "# FISTA with backtracking\n",
    "L0=1 #initial estimation of the Lipschitz constant -> arbitrarily small value\n",
    "rho=0.8\n",
    "delta=0.95\n",
    "xBT,coutBT,ctimeBT,L_BT,ite_BT=FISTA_BT(x0, L0, rho, delta, Niter, epsilon, f, Df, proxh, h, exit_crit=exit_crit, sp=sp, out_L=True,out_ite=True, exit_norm=True,track_ctime=True)\n",
    "Plot_BT1=To_Plot(coutBT,\"FISTA with backtracking, rho=%f, delta=%f, L0=%i\"%(rho,delta,L0),ctimeBT)"
   ]
  },
  {
   "cell_type": "code",
   "execution_count": null,
   "metadata": {},
   "outputs": [],
   "source": [
    "# Free FISTA\n",
    "L0=1\n",
    "rho=0.8\n",
    "delta=0.95\n",
    "xBTR,coutBTR1,ctimeBTR1,L_BTR1,ite_BTR1=Free_FISTA(x0, L0, rho, delta, Niter, epsilon, f, h, Df, proxh, exit_crit=exit_crit, sp=sp, out_cost=True, out_L=True, out_ite=True, exit_norm=True,track_ctime=True)\n",
    "Plot_BTR1=To_Plot(coutBTR1,\"Free-FISTA, rho=%f, delta=%f, L0=%i\"%(rho,delta,L0),ctimeBTR1)"
   ]
  },
  {
   "cell_type": "code",
   "execution_count": null,
   "metadata": {},
   "outputs": [],
   "source": [
    "# Computing an accurate approximation of the solution for visualization\n",
    "xmin = Free_FISTA(xBTR, L_BTR1[-1], rho, delta, 3000, 1e-12, f, h, Df, proxh, exit_crit=exit_crit, sp=sp, out_cost=False, out_L=False, out_ite=False, exit_norm=True,track_ctime=False)"
   ]
  },
  {
   "cell_type": "code",
   "execution_count": null,
   "metadata": {},
   "outputs": [],
   "source": [
    "# help(Plot)"
   ]
  },
  {
   "cell_type": "code",
   "execution_count": null,
   "metadata": {
    "tags": []
   },
   "outputs": [],
   "source": [
    "Plot([Plot_FISTA,Plot_AR1,Plot_BT1,Plot_BTR1],coutmin=F(xmin),style=['-','--','--','-'],fontsize=25)\n",
    "plt.xlabel(\"Number of iterations\",fontsize=25)\n",
    "plt.ylabel(\"$\\log(F(x_k)-\\hat F)$\",fontsize=25)"
   ]
  },
  {
   "cell_type": "code",
   "execution_count": null,
   "metadata": {},
   "outputs": [],
   "source": [
    "Plot([Plot_FISTA,Plot_AR1,Plot_BT1,Plot_BTR1],coutmin=F(xmin),style=['-','--','--','-'],ite=False,fontsize=25)\n",
    "plt.xlabel(\"Computation time (in seconds)\",fontsize=25)\n",
    "plt.ylabel(\"$\\log(F(x_k)-\\hat F)$\",fontsize=25)"
   ]
  },
  {
   "cell_type": "markdown",
   "metadata": {},
   "source": [
    "### Comparing different choices of parameters"
   ]
  },
  {
   "cell_type": "code",
   "execution_count": null,
   "metadata": {},
   "outputs": [],
   "source": [
    "L0=L\n",
    "rho=0.8\n",
    "delta=0.95\n",
    "xBTR,coutBTR2,ctimeBTR2,L_BTR2,ite_BTR2=Free_FISTA(x0, L0, rho, delta, Niter, epsilon, f, h, Df, proxh, exit_crit=exit_crit, sp=sp, out_cost=True, out_L=True, out_ite=True, exit_norm=True,track_ctime=True)\n",
    "Plot_BTR2=To_Plot(coutBTR2,\"Free-FISTA, rho=%f, delta=%f, L0=L (upper bound)\"%(rho,delta),ctimeBTR2)"
   ]
  },
  {
   "cell_type": "code",
   "execution_count": null,
   "metadata": {},
   "outputs": [],
   "source": [
    "L0=1\n",
    "rho=0.8\n",
    "delta=0.99\n",
    "xBTR,coutBTR3,ctimeBTR3,L_BTR3,ite_BTR3=Free_FISTA(x0, L0, rho, delta, Niter, epsilon, f, h, Df, proxh, exit_crit=exit_crit, sp=sp, out_cost=True, out_L=True, out_ite=True, exit_norm=True,track_ctime=True)\n",
    "Plot_BTR3=To_Plot(coutBTR3,\"Free-FISTA, rho=%f, delta=%f, L0=%i\"%(rho,delta,L0),ctimeBTR3)"
   ]
  },
  {
   "cell_type": "code",
   "execution_count": null,
   "metadata": {},
   "outputs": [],
   "source": [
    "L0=L\n",
    "rho=0.8\n",
    "delta=0.99\n",
    "xBTR,coutBTR4,ctimeBTR4,L_BTR4,ite_BTR4=Free_FISTA(x0, L0, rho, delta, Niter, epsilon, f, h, Df, proxh, exit_crit=exit_crit, sp=sp, out_cost=True, out_L=True, out_ite=True, exit_norm=True,track_ctime=True)\n",
    "Plot_BTR4=To_Plot(coutBTR4,\"Free-FISTA, rho=%f, delta=%f, L0=L (upper bound)\"%(rho,delta),ctimeBTR4)"
   ]
  },
  {
   "cell_type": "code",
   "execution_count": null,
   "metadata": {},
   "outputs": [],
   "source": [
    "Plot([Plot_BTR1,Plot_BTR2,Plot_BTR3,Plot_BTR4],coutmin=F(xmin),style=['-','-.','--',':'],ite=False,fontsize=25)\n",
    "plt.xlabel(\"Computation time (in seconds)\",fontsize=25)\n",
    "plt.ylabel(\"$\\log(F(x_k)-\\hat F)$\",fontsize=25)"
   ]
  },
  {
   "cell_type": "markdown",
   "metadata": {},
   "source": [
    "Comparing the theoric upper bound on $L$ and the values computed using backtracking"
   ]
  },
  {
   "cell_type": "code",
   "execution_count": null,
   "metadata": {},
   "outputs": [],
   "source": [
    "plt.plot(L_BTR1,'-')\n",
    "plt.plot(L_BTR2,'-.')\n",
    "plt.plot(L_BTR3,'--')\n",
    "plt.plot(L_BTR4,':')\n",
    "plt.plot(np.zeros_like(L_BTR2)+L)\n",
    "plt.legend([Plot_BTR1.legend,Plot_BTR2.legend,Plot_BTR3.legend,Plot_BTR4.legend,\"Theoretical estimation\"],prop={'size': 25})\n",
    "plt.ylabel(\"Estimation of the Lipschitz constant\",fontsize=25)\n",
    "plt.xlabel(\"Number of iterations\",fontsize=25)\n",
    "plt.xlim([0,len(L_BTR2)])"
   ]
  },
  {
   "cell_type": "code",
   "execution_count": null,
   "metadata": {},
   "outputs": [],
   "source": [
    "plt.bar(np.arange(0,len(ite_BTR1)),ite_BTR1)\n",
    "plt.bar(np.arange(0,len(ite_BTR2)),ite_BTR2)\n",
    "plt.legend([Plot_BTR1.legend,Plot_BTR2.legend],prop={'size': 25})\n",
    "plt.xlabel(\"FISTA iterations\",fontsize=25)\n",
    "plt.ylabel(\"Number of backtracking iterations\",fontsize=25)\n",
    "plt.xlim([-10,len(ite_BTR2)])"
   ]
  },
  {
   "cell_type": "code",
   "execution_count": null,
   "metadata": {},
   "outputs": [],
   "source": []
  }
 ],
 "metadata": {
  "kernelspec": {
   "display_name": "Python 3 (ipykernel)",
   "language": "python",
   "name": "python3"
  },
  "language_info": {
   "codemirror_mode": {
    "name": "ipython",
    "version": 3
   },
   "file_extension": ".py",
   "mimetype": "text/x-python",
   "name": "python",
   "nbconvert_exporter": "python",
   "pygments_lexer": "ipython3",
   "version": "3.9.12"
  }
 },
 "nbformat": 4,
 "nbformat_minor": 4
}
