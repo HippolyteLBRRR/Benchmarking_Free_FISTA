{
 "cells": [
  {
   "cell_type": "markdown",
   "metadata": {},
   "source": [
    "# Backtracking Inpainting\n",
    "\n",
    "\n",
    "Consider an image $x^0$ and a masking operator $M$. Let $y=Mx^0$ be the damaged version of $x^0$. The objective is to get an approximation of $x^0$ knowing $y$ and $M$. This problem can be written as follows:\n",
    "$$\n",
    "\\min\\limits_{x}F(x)=\\frac{1}{2}\\|Mx-y\\|^2+\\lambda\\|Tx\\|_1,\n",
    "$$\n",
    "where $T$ is an orthogonal transformation ensuring that $Tx^0$ is sparse. In this example, $x^0$ is piecewise smooth so we chose $T$ as an orthogonal wavelet transform. "
   ]
  },
  {
   "cell_type": "markdown",
   "metadata": {},
   "source": [
    "### Importing libraries, generating data and operators"
   ]
  },
  {
   "cell_type": "code",
   "execution_count": null,
   "metadata": {},
   "outputs": [],
   "source": [
    "# Importing libraries\n",
    "import numpy as np\n",
    "import scipy as scp\n",
    "import pylab as pyl\n",
    "import pywt\n",
    "import matplotlib.pyplot as plt\n",
    "from PIL import Image\n",
    "import time"
   ]
  },
  {
   "cell_type": "code",
   "execution_count": null,
   "metadata": {},
   "outputs": [],
   "source": [
    "#Importing additional packages: algorithms.py contains the algorithms to apply and visualizer.py is useful to plot loss functions.\n",
    "import os.path\n",
    "if not os.path.isfile('./visualizer.py'):\n",
    "    !wget https://github.com/HippolyteLBRRR/Composite_optimization/raw/main/visualizer.py\n",
    "if not os.path.isfile('./algorithms.py'):\n",
    "    !wget https://github.com/HippolyteLBRRR/Composite_optimization/raw/main/algorithms.py\n",
    "from algorithms import *\n",
    "from visualizer import *"
   ]
  },
  {
   "cell_type": "code",
   "execution_count": null,
   "metadata": {},
   "outputs": [],
   "source": [
    "#Definition of the operators\n",
    "\n",
    "def SoftThreshold_Wvt(I,wave,Seuil):\n",
    "    L=pywt.dwt_max_level(len(I),pywt.Wavelet(wave).dec_len)\n",
    "    wavelet_coeffs= pywt.wavedecn(I, wave, mode='per', level=L)\n",
    "    arr, coeff_slices, coeff_shapes = pywt.ravel_coeffs(wavelet_coeffs)\n",
    "    temp=pywt.threshold(arr,Seuil,mode='soft')\n",
    "    test=pywt.unravel_coeffs(temp, coeff_slices, coeff_shapes, output_format='wavedecn')\n",
    "    Irec=pywt.waverecn(test, wave,mode='per')\n",
    "    return Irec\n",
    "def Normel1Ondelettes(I,wave):\n",
    "    L=pywt.dwt_max_level(len(I),pywt.Wavelet(wave).dec_len)\n",
    "    wavelet_coeffs= pywt.wavedecn(I, wave, mode='per', level=L)\n",
    "    arr, coeff_slices, coeff_shapes = pywt.ravel_coeffs(wavelet_coeffs)\n",
    "    norml1=sum(np.abs(arr))\n",
    "    return norml1\n",
    "def operators_Inpainting(im,M,lam,wave):\n",
    "    F=lambda x:0.5*np.linalg.norm(M*x-im)**2+lam*Normel1Ondelettes(x,wave)\n",
    "    f=lambda x:0.5*np.linalg.norm(M*x-im)**2\n",
    "    h=lambda x:lam*Normel1Ondelettes(x,wave)\n",
    "    Df=lambda x:M*(x-im)\n",
    "    proxh=lambda x,s:SoftThreshold_Wvt(x,wave,s*lam)\n",
    "    return F,f,h,Df,proxh"
   ]
  },
  {
   "cell_type": "code",
   "execution_count": null,
   "metadata": {},
   "outputs": [],
   "source": [
    "def upsize(im):\n",
    "    n,m=np.shape(im)\n",
    "    N=np.maximum(n,m)\n",
    "    k=int(np.ceil(np.log(N)/np.log(2)))\n",
    "    temp=np.zeros((2**k,2**k))\n",
    "    temp[:n,:m]=im\n",
    "    return temp"
   ]
  },
  {
   "cell_type": "code",
   "execution_count": null,
   "metadata": {},
   "outputs": [],
   "source": [
    "# Generating data\n",
    "im=np.array(Image.open(\"./shrek.jpeg\")).astype(float)[:,:,0] #other images can be considered\n",
    "np.random.seed(seed=1)\n",
    "n1,n2=np.shape(im)\n",
    "r=np.random.rand(n1,n2)\n",
    "prop = 0.5 #Proportion of damaged data\n",
    "M=(r<prop)\n",
    "M = M*1.0\n",
    "im_masq=im*M\n",
    "wave=\"db4\" # Wavelet basis considered\n",
    "lam=2 # Regularization parameter\n",
    "big_im_masq=upsize(im_masq)\n",
    "big_M=upsize(M)\n",
    "F,f,h,Df,proxh=operators_Inpainting(big_im_masq,big_M,lam,wave) \n",
    "exit_crit=lambda x,y:npl.norm(x-y) #critère d'arrêt -> norm of the composite gradient\n",
    "sp=lambda x,y:np.dot(x.ravel(),y.ravel()) #scalar product considered\n",
    "x0=big_im_masq\n",
    "L=1\n",
    "plt.matshow(im,cmap=\"gray\")\n",
    "plt.title(\"Original image\")\n",
    "plt.matshow(im_masq,cmap=\"gray\")\n",
    "plt.title(\"Damaged image\")"
   ]
  },
  {
   "cell_type": "code",
   "execution_count": null,
   "metadata": {},
   "outputs": [],
   "source": [
    "Niter=6000 # Maximum number of iterations (backtracking iterations are not taken in account)\n",
    "epsilon=1e-6 # Expected accuracy on the composite gradient"
   ]
  },
  {
   "cell_type": "markdown",
   "metadata": {},
   "source": [
    "## Applying first-order methods to this problem"
   ]
  },
  {
   "cell_type": "code",
   "execution_count": null,
   "metadata": {},
   "outputs": [],
   "source": [
    "# Documentation for the algorithms:\n",
    "# help(FISTA)\n",
    "# help(FISTA_automatic_restart)\n",
    "# help(FISTA_BT)\n",
    "# help(Free_FISTA)"
   ]
  },
  {
   "cell_type": "code",
   "execution_count": null,
   "metadata": {},
   "outputs": [],
   "source": [
    "# FISTA\n",
    "xFISTA,coutFISTA,ctimeFISTA=FISTA(x0,1/L,Niter,epsilon,Df,proxh,F=F,exit_crit=exit_crit,track_ctime=True)\n",
    "Plot_FISTA=To_Plot(coutFISTA,\"FISTA\",ctimeFISTA) # To_Plot object -> visualization"
   ]
  },
  {
   "cell_type": "code",
   "execution_count": null,
   "metadata": {},
   "outputs": [],
   "source": [
    "# FISTA restart by ADLR\n",
    "xAR1,coutAR1,ctimeAR1=FISTA_automatic_restart(x0,1/L,Niter,epsilon,Df,proxh,F,exit_crit=exit_crit,track_ctime=True)\n",
    "Plot_AR1=To_Plot(coutAR1,\"Automatic FISTA restart (ADLR)\",ctimeAR1)"
   ]
  },
  {
   "cell_type": "code",
   "execution_count": null,
   "metadata": {},
   "outputs": [],
   "source": [
    "# FISTA with backtracking\n",
    "L0=1\n",
    "rho=0.85\n",
    "delta=0.99\n",
    "xBT,coutBT,ctimeBT,L_BT,ite_BT=FISTA_BT(x0, L0, rho, delta, Niter, epsilon, f, Df, proxh, h, exit_crit=exit_crit, sp=sp, out_L=True,out_ite=True, exit_norm=True,track_ctime=True)\n",
    "Plot_BT=To_Plot(coutBT,\"FISTA with backtracking\",ctimeBT)"
   ]
  },
  {
   "cell_type": "code",
   "execution_count": null,
   "metadata": {},
   "outputs": [],
   "source": [
    "# Free FISTA\n",
    "L0=1\n",
    "rho=0.85\n",
    "delta=0.99\n",
    "xBTR,coutBTR1,ctimeBTR1,L_BTR1,ite_BTR1=Free_FISTA(x0, L0, rho, delta, Niter, epsilon, f, h, Df, proxh, exit_crit=exit_crit, sp=sp, out_cost=True, out_L=True,out_ite=True, exit_norm=True,track_ctime=True)\n",
    "Plot_BTR1=To_Plot(coutBTR1,\"Free-FISTA, rho=%f, delta=%f, L0=%i\"%(rho,delta,L0),ctimeBTR1)"
   ]
  },
  {
   "cell_type": "code",
   "execution_count": null,
   "metadata": {},
   "outputs": [],
   "source": [
    "# Computing an accurate approximation of the solution for visualization\n",
    "xmin = Free_FISTA(xBTR, L_BTR1[-1], rho, delta, 3000, 1e-9, f, h, Df, proxh, exit_crit=exit_crit, sp=sp, out_cost=False, out_L=False, out_ite=False, exit_norm=True,track_ctime=False)"
   ]
  },
  {
   "cell_type": "code",
   "execution_count": null,
   "metadata": {},
   "outputs": [],
   "source": [
    "Plot([Plot_FISTA,Plot_AR1,Plot_BT,Plot_BTR1],coutmin=F(xmin),style=['-','-','-','--'],fontsize=25)\n",
    "plt.xlabel(\"Number of iterations\",fontsize=25)\n",
    "plt.ylabel(\"$\\log(F(x_k)-\\hat F)$\",fontsize=25)"
   ]
  },
  {
   "cell_type": "code",
   "execution_count": null,
   "metadata": {},
   "outputs": [],
   "source": [
    "Plot([Plot_FISTA,Plot_AR1,Plot_BT,Plot_BTR1],coutmin=F(xmin),style=['-','--','-','--'],ite=False,fontsize=25)\n",
    "plt.xlabel(\"Computation time (in seconds)\",fontsize=25)\n",
    "plt.ylabel(\"$\\log(F(x_k)-\\hat F)$\",fontsize=25)"
   ]
  },
  {
   "cell_type": "markdown",
   "metadata": {},
   "source": [
    "### Comparing different choices of parameters"
   ]
  },
  {
   "cell_type": "code",
   "execution_count": null,
   "metadata": {},
   "outputs": [],
   "source": [
    "L0=1\n",
    "rho=0.85\n",
    "delta=0.95\n",
    "xBTR,coutBTR2,ctimeBTR2,L_BTR2,ite_BTR2=Free_FISTA(x0, L0, rho, delta, Niter, epsilon, f, h, Df, proxh, exit_crit=exit_crit, sp=sp, out_cost=True, out_L=True,out_ite=True, exit_norm=True,track_ctime=True)\n",
    "Plot_BTR2=To_Plot(coutBTR2,\"Free-FISTA, rho=%f, delta=%f, L0=%i\"%(rho,delta,L0),ctimeBTR2)"
   ]
  },
  {
   "cell_type": "code",
   "execution_count": null,
   "metadata": {},
   "outputs": [],
   "source": [
    "Plot([Plot_BTR1,Plot_BTR2,Plot_AR1],eps=1e-12,coutmin=F(xmin),style=['-','--',':'],ite=False,fontsize=25)\n",
    "plt.xlabel(\"Computation time (in seconds)\",fontsize=25)\n",
    "plt.ylabel(\"$\\log(F(x_k)-\\hat F)$\",fontsize=25)"
   ]
  },
  {
   "cell_type": "markdown",
   "metadata": {},
   "source": [
    "### Comparison between the exact Lipschitz constant $L=1$ and the local estimation given by the method"
   ]
  },
  {
   "cell_type": "code",
   "execution_count": null,
   "metadata": {},
   "outputs": [],
   "source": [
    "plt.plot(L_BTR1[:-60])\n",
    "plt.plot(L_BTR2[:-60])\n",
    "plt.plot(np.zeros_like(L_BTR2[:-50])+L)\n",
    "plt.legend([Plot_BTR1.legend,Plot_BTR2.legend,\"Theoretical estimation\"],prop={'size': 25})\n",
    "plt.xlim([0,len(L_BTR2)-50])\n",
    "plt.ylim([-0.1,1.1])\n",
    "plt.ylabel(\"Estimation of the Lipschitz constant\",fontsize=25)\n",
    "plt.xlabel(\"Number of iterations\",fontsize=25)"
   ]
  },
  {
   "cell_type": "code",
   "execution_count": null,
   "metadata": {},
   "outputs": [],
   "source": [
    "plt.plot(L_BT[:-50])\n",
    "plt.plot(L_BTR1[:-50])\n",
    "plt.plot(np.zeros_like(L_BT[:-50])+L)\n",
    "plt.legend([\"FISTA with backtracking\",\"FISTA with backtracking and restart\",\"Theoretical estimation\"],prop={'size': 15})\n",
    "plt.xlim([0,3000])\n",
    "plt.ylabel(\"Estimation of the Lipschitz constant\",fontsize=20)\n",
    "plt.xlabel(\"Number of iterations\",fontsize=20)\n",
    "plt.ylim([0,1.2])"
   ]
  },
  {
   "cell_type": "markdown",
   "metadata": {},
   "source": [
    "# Benchmark in terms of computation time"
   ]
  },
  {
   "cell_type": "code",
   "execution_count": null,
   "metadata": {},
   "outputs": [],
   "source": [
    "im=np.array(Image.open(\"./capu.jpg\")).astype(float)[:,:,0]\n",
    "np.random.seed(seed=1)\n",
    "n1,n2=np.shape(im)\n",
    "r=np.random.rand(n1,n2)\n",
    "M=(r<0.3)\n",
    "M = M*1.0\n",
    "im_masq=im*M\n",
    "wave=\"coif3\"\n",
    "lam=2\n",
    "big_im_masq=upsize(im_masq)\n",
    "big_M=upsize(M)\n",
    "F,f,h,Df,proxh=operators_Inpainting(big_im_masq,big_M,lam,wave)\n",
    "exit_crit=lambda x,y:npl.norm(x-y) #critère d'arrêt -> norme du gradient composite\n",
    "sp=lambda x,y:np.dot(x.ravel(),y.ravel()) #produit scalaire utilisé -> produit scalaire entre les matrices \"aplaties\"\n",
    "x0=big_im_masq\n",
    "L=1\n",
    "plt.rcParams[\"figure.figsize\"] = (6,6)\n",
    "plt.matshow(im,cmap=\"gray\")\n",
    "plt.title(\"Original image\")\n",
    "plt.matshow(im_masq,cmap=\"gray\")\n",
    "plt.title(\"Damaged image\")"
   ]
  },
  {
   "cell_type": "code",
   "execution_count": null,
   "metadata": {},
   "outputs": [],
   "source": [
    "Niter=60000\n",
    "epsilon=1e-6\n",
    "rho=0.8\n",
    "delta=0.99"
   ]
  },
  {
   "cell_type": "code",
   "execution_count": null,
   "metadata": {},
   "outputs": [],
   "source": [
    "tAR1=time.perf_counter()\n",
    "xAR1=FISTA_automatic_restart(x0,1/L,Niter,epsilon,Df,proxh,F,exit_crit=exit_crit,out_cost=False)\n",
    "tAR1=time.perf_counter()-tAR1\n",
    "print(\"Automatic FISTA restart (exact value of L)\")\n",
    "print(\"Computation time:\",tAR1)\n",
    "print(\"Final cost:\",F(xAR1))"
   ]
  },
  {
   "cell_type": "code",
   "execution_count": null,
   "metadata": {},
   "outputs": [],
   "source": [
    "tBTR=time.perf_counter()\n",
    "L0=1\n",
    "rho=0.8\n",
    "delta=0.99\n",
    "xBTR=FISTA_BT_automatic_restart(x0, L0, rho, delta, Niter, epsilon, f, h, Df, proxh, exit_crit=exit_crit, sp=sp, out_cost=False, out_L=False, exit_norm=True)\n",
    "tBTR=time.perf_counter()-tBTR\n",
    "print(\"Automatic FISTA restart with backtracking\")\n",
    "print(\"Computation time:\",tBTR)\n",
    "print(\"Final cost:\",F(xBTR))"
   ]
  },
  {
   "cell_type": "code",
   "execution_count": null,
   "metadata": {},
   "outputs": [],
   "source": [
    "plt.rcParams[\"figure.figsize\"] = (6,6)\n",
    "plt.matshow(np.clip(xBTR[:n1,:n2],0,256),cmap=\"gray\")"
   ]
  },
  {
   "cell_type": "code",
   "execution_count": null,
   "metadata": {},
   "outputs": [],
   "source": [
    "print(n1,n2)"
   ]
  },
  {
   "cell_type": "code",
   "execution_count": null,
   "metadata": {},
   "outputs": [],
   "source": []
  }
 ],
 "metadata": {
  "kernelspec": {
   "display_name": "Python 3 (ipykernel)",
   "language": "python",
   "name": "python3"
  },
  "language_info": {
   "codemirror_mode": {
    "name": "ipython",
    "version": 3
   },
   "file_extension": ".py",
   "mimetype": "text/x-python",
   "name": "python",
   "nbconvert_exporter": "python",
   "pygments_lexer": "ipython3",
   "version": "3.9.12"
  }
 },
 "nbformat": 4,
 "nbformat_minor": 4
}
