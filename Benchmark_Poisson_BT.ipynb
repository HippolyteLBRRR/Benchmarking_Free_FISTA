{
 "cells": [
  {
   "cell_type": "markdown",
   "metadata": {},
   "source": [
    "# Blurred data with Poisson noise"
   ]
  },
  {
   "cell_type": "markdown",
   "metadata": {},
   "source": [
    "### Importing libraries, generating data and operators"
   ]
  },
  {
   "cell_type": "code",
   "execution_count": null,
   "metadata": {},
   "outputs": [],
   "source": [
    "#Importing libraries\n",
    "import numpy as np\n",
    "import scipy as scp\n",
    "import pylab as pyl\n",
    "import matplotlib.pyplot as plt\n",
    "import scipy\n",
    "import scipy.io\n",
    "from PIL import Image\n",
    "import time\n",
    "import holoviews as hv\n",
    "import panel as pn\n",
    "from scipy import signal\n",
    "hv.extension('bokeh')"
   ]
  },
  {
   "cell_type": "code",
   "execution_count": null,
   "metadata": {},
   "outputs": [],
   "source": [
    "#Importing libraries\n",
    "import numpy as np\n",
    "import scipy as scp\n",
    "import matplotlib.pyplot as plt\n",
    "import scipy.linalg as spl\n",
    "import time"
   ]
  },
  {
   "cell_type": "code",
   "execution_count": null,
   "metadata": {
    "tags": []
   },
   "outputs": [],
   "source": [
    "#Importing additional packages: algorithms.py contains the algorithms to apply and visualizer.py is useful to plot loss functions.\n",
    "import os.path\n",
    "if not os.path.isfile('./visualizer.py'):\n",
    "    !wget https://github.com/HippolyteLBRRR/Composite_optimization/raw/main/visualizer.py\n",
    "if not os.path.isfile('./algorithms.py'):\n",
    "    !wget https://github.com/HippolyteLBRRR/Composite_optimization/raw/main/algorithms.py\n",
    "from algorithms import *\n",
    "from visualizer import *"
   ]
  },
  {
   "cell_type": "code",
   "execution_count": null,
   "metadata": {},
   "outputs": [],
   "source": [
    "#Display Setting\n",
    "options0=dict(width=400,height=400,xaxis=None,yaxis=None,toolbar=None,cmap='hot')"
   ]
  },
  {
   "cell_type": "code",
   "execution_count": null,
   "metadata": {},
   "outputs": [],
   "source": [
    "#Data import\n",
    "pth_kernel='./ISBI_1.mat'\n",
    "data = scipy.io.loadmat(pth_kernel)\n",
    "print(data)\n",
    "im=data[\"gt\"]\n",
    "kern=data[\"PSF\"]\n",
    "M=data[\"M\"]\n",
    "bg=data[\"b\"]\n",
    "im_det=data[\"Acq\"]+bg\n",
    "pn.Row(hv.Image(im).opts(**options0),hv.Image(im_det).opts(**options0),hv.Image(kern).opts(**options0))"
   ]
  },
  {
   "cell_type": "code",
   "execution_count": null,
   "metadata": {},
   "outputs": [],
   "source": [
    "#Defining operators\n",
    "\n",
    "def Convolution(x, A):\n",
    "    #A is not the kernel but its fft.\n",
    "    y = np.real(np.fft.ifft2(A * np.fft.fft2(x)))\n",
    "    return y\n",
    "    #return signal.convolve2d(x,h,mode='same',boundary='fill',fillvalue=1)\n",
    "\n",
    "def Convolution_adj(x,A):\n",
    "    #A is not the kernel but its fft.\n",
    "    y = np.real(np.fft.ifft2(np.conj(A) * np.fft.fft2(x)))\n",
    "    return y\n",
    "\n",
    "def SubSample(x,M):\n",
    "    return M@x@M.T\n",
    "\n",
    "def Poisson(x):\n",
    "    return np.random.poisson(x)\n",
    "\n",
    "def KL1(H,M,x,z,bg):\n",
    "    MHx=SubSample(H(x),M)\n",
    "    temp=(z!=0)*(z*np.log(z/(MHx+bg)))+MHx+bg-z\n",
    "    return np.sum(temp)\n",
    "def Grad_KL1(H,HT,M,x,z,bg):\n",
    "    MHx=SubSample(H(x),M)\n",
    "    return HT(SubSample(np.ones(MHx.shape)-z/(MHx+bg),M.T))\n",
    "\n",
    "def operators_poisson(kern,M,lmbd,im,bg):\n",
    "    #kern : convolution kernel\n",
    "    #lmbd : regularization parameter\n",
    "    #im : damaged data\n",
    "    #bg : background value\n",
    "    N=np.max(np.shape(M))\n",
    "    n=np.min(np.shape(M))\n",
    "    PSF = np.fft.fft2(np.fft.fftshift(kern), [N,N])\n",
    "    Convo = lambda x: Convolution(x,PSF)\n",
    "    ConvoT = lambda x: Convolution_adj(x,PSF)\n",
    "    f = lambda x: KL1(Convo,M,x,im,bg)\n",
    "    Df = lambda x: Grad_KL1(Convo,ConvoT,M,x,im,bg)     \n",
    "    h = lambda x: lmbd*np.sum(np.abs(x))\n",
    "    proxh = lambda x,s: (x-lmbd*s)*(x>lmbd*s)\n",
    "    F = lambda x: f(x)+h(x)\n",
    "    im_init=Convo(SubSample(im,M.T))\n",
    "    return F,f,h,Df,proxh,im_init"
   ]
  },
  {
   "cell_type": "code",
   "execution_count": null,
   "metadata": {},
   "outputs": [],
   "source": [
    "#Definition of the operators, the exit criteria and the scalar product\n",
    "lmbd=8\n",
    "F,f,h,Df,proxh,im_init=operators_poisson(kern,M,lmbd,im_det,bg)\n",
    "exit_crit = lambda x,y: npl.norm(np.ravel(x-y),2)\n",
    "sp = lambda x,y: np.dot(np.ravel(x),np.ravel(y))\n",
    "hv.Image(im_init).opts(**options0)"
   ]
  },
  {
   "cell_type": "code",
   "execution_count": null,
   "metadata": {},
   "outputs": [],
   "source": [
    "#Optimization parameters (Niter: number of iterations, L0: initial estimate of the Lipchitz constant (chosen arbitrarily), epsilon: expected accuracy)\n",
    "Niter=1000\n",
    "L0=100\n",
    "epsilon=1e-6"
   ]
  },
  {
   "cell_type": "code",
   "execution_count": null,
   "metadata": {},
   "outputs": [],
   "source": [
    "rho=0.8\n",
    "delta=0.95\n",
    "xBT,cost_BT,ctime_BT,Lk=FISTA_BT(im_init, L0, rho, delta, Niter, epsilon, f, Df, proxh, h, exit_crit, sp,out_L=True,exit_norm=True,track_ctime=True)"
   ]
  },
  {
   "cell_type": "code",
   "execution_count": null,
   "metadata": {},
   "outputs": [],
   "source": [
    "Plot_BT=To_Plot(cost_BT,\"FISTA with backtracking, rho=%.2f, delta=%.2f, L0=%i\"%(rho,delta,L0),ctime_BT)"
   ]
  },
  {
   "cell_type": "code",
   "execution_count": null,
   "metadata": {},
   "outputs": [],
   "source": [
    "rho=0.8\n",
    "delta=0.95\n",
    "xRBT,cost_BTR,ctime_BTR,tab_L,tab_mu,irestartBTR=Free_FISTA(im_init, L0, rho, delta, Niter, epsilon, f, h, Df, proxh,exit_crit=exit_crit, sp=sp, out_cost=True,out_L=True,exit_norm=True,out_condition=True,track_ctime=True,track_restart=True)"
   ]
  },
  {
   "cell_type": "code",
   "execution_count": null,
   "metadata": {},
   "outputs": [],
   "source": [
    "Plot_BTR=To_Plot(cost_BTR,\"Free-FISTA, rho=%.2f, delta=%.2f, L0=%i\"%(rho,delta,L0),ctime_BTR,extra_points=irestartBTR)"
   ]
  },
  {
   "cell_type": "code",
   "execution_count": null,
   "metadata": {},
   "outputs": [],
   "source": [
    "Plot([Plot_BT,Plot_BTR],ite=False,eps=1e-5,fontsize = 25)\n",
    "plt.xlabel(\"Computation time (in seconds)\",fontsize=25)\n",
    "plt.ylabel(\"$\\log(F(x_k)-\\hat F)$\",fontsize=25)"
   ]
  },
  {
   "cell_type": "code",
   "execution_count": null,
   "metadata": {},
   "outputs": [],
   "source": [
    "hv.Image(xBT).opts(**options0)"
   ]
  },
  {
   "cell_type": "markdown",
   "metadata": {},
   "source": []
  },
  {
   "cell_type": "code",
   "execution_count": null,
   "metadata": {},
   "outputs": [],
   "source": []
  }
 ],
 "metadata": {
  "kernelspec": {
   "display_name": "Python 3",
   "language": "python",
   "name": "python3"
  },
  "language_info": {
   "codemirror_mode": {
    "name": "ipython",
    "version": 3
   },
   "file_extension": ".py",
   "mimetype": "text/x-python",
   "name": "python",
   "nbconvert_exporter": "python",
   "pygments_lexer": "ipython3",
   "version": "3.8.5"
  }
 },
 "nbformat": 4,
 "nbformat_minor": 4
}
