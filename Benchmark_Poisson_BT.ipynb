{
 "cells": [
  {
   "cell_type": "markdown",
   "metadata": {},
   "source": [
    "# Backtracking Poisson image deblurring"
   ]
  },
  {
   "cell_type": "markdown",
   "metadata": {},
   "source": [
    "we consider the problem of image deconvolution for sparse images corrupted by Poisson noise with undersampling. This problem can be encountered, for instance, in super-resolution microscopy \\cite{}. Given a non-negative image $z\\in R^n$, it can be formulated as the inverse problem of retrieving a sparse and non-negative $x\\in R^n$ from $z=\\mathcal{P}(MHx+b)$, where $M:R^n\\rightarrow R^m$ is a subsampling operator (note that $m<n$), $H\\in R^{n\\times n}$ is a blurring operator computed for a given point spread function (PSF), $b\\in R^m$ stands for a positive background term and $\\mathcal{P}(w)$ denotes a realisation of a Poisson-distributed $n$-dimensional random vector with parameter $w\\in R^n$. \n",
    "\n",
    "As it is well-known, whenever Poisson noise is observed in the data, a statistically consistent data fidelity term is the generalised Kullback-Leibler divergence functional defined by:\n",
    "$$\n",
    "    KL(MHx+b;z):=\\sum_{i=1}^n\\left(z_i\\log \\frac{z_i}{(MHx)_i+b_i}+(MHx)_i+b_i-z_i\\right),\n",
    "$$\n",
    "and where  the convention $0\\log 0=0$ is adopted. By enforcing sparsity using a standard $\\ell^1$ penalty and denoting by $\\iota_{\\geq 0}(\\cdot)$ the indicator function on the non-negative orthant, we consider:\n",
    "$$\n",
    "\\min_{x\\in R^n}F(x):=\\underbrace{KL(MHx+b,z)}_{:=f(x)}+\\underbrace{\\lambda\\|x\\|_1+i_{\\geq 0}(x)}_{:=h(x)}.\n",
    "$$"
   ]
  },
  {
   "cell_type": "markdown",
   "metadata": {},
   "source": [
    "### Importing libraries, generating data and operators"
   ]
  },
  {
   "cell_type": "code",
   "execution_count": null,
   "metadata": {},
   "outputs": [],
   "source": [
    "#Importing libraries\n",
    "import numpy as np\n",
    "import scipy as scp\n",
    "import pylab as pyl\n",
    "import matplotlib.pyplot as plt\n",
    "import scipy\n",
    "import scipy.io\n",
    "from PIL import Image\n",
    "import time\n",
    "import holoviews as hv\n",
    "import panel as pn\n",
    "from scipy import signal\n",
    "hv.extension('bokeh')"
   ]
  },
  {
   "cell_type": "code",
   "execution_count": null,
   "metadata": {
    "tags": []
   },
   "outputs": [],
   "source": [
    "#Importing additional packages: algorithms.py contains the algorithms to apply and visualizer.py is useful to plot loss functions.\n",
    "import os.path\n",
    "if not os.path.isfile('./visualizer.py'):\n",
    "    !wget https://github.com/HippolyteLBRRR/Composite_optimization/raw/main/visualizer.py\n",
    "if not os.path.isfile('./algorithms.py'):\n",
    "    !wget https://github.com/HippolyteLBRRR/Composite_optimization/raw/main/algorithms.py\n",
    "from algorithms import *\n",
    "from visualizer import *"
   ]
  },
  {
   "cell_type": "code",
   "execution_count": null,
   "metadata": {},
   "outputs": [],
   "source": [
    "# Display setting\n",
    "options0=dict(width=400,height=400,xaxis=None,yaxis=None,toolbar=None,cmap='hot')"
   ]
  },
  {
   "cell_type": "code",
   "execution_count": null,
   "metadata": {},
   "outputs": [],
   "source": [
    "# Importing data\n",
    "pth_kernel='./ISBI_1.mat'\n",
    "data = scipy.io.loadmat(pth_kernel)\n",
    "print(data)\n",
    "im=data[\"gt\"]\n",
    "kern=data[\"PSF\"]\n",
    "M=data[\"M\"]\n",
    "bg=data[\"b\"]\n",
    "im_det=data[\"Acq\"]+bg\n",
    "pn.Row(hv.Image(im).opts(**options0),hv.Image(im_det).opts(**options0),hv.Image(kern).opts(**options0))"
   ]
  },
  {
   "cell_type": "code",
   "execution_count": null,
   "metadata": {},
   "outputs": [],
   "source": [
    "#Definition of the operators\n",
    "\n",
    "def Convolution(x, A):\n",
    "    # A is the fft of the kernel!\n",
    "    y = np.real(np.fft.ifft2(A * np.fft.fft2(x)))\n",
    "    return y\n",
    "\n",
    "def Convolution_adj(x,A):\n",
    "    # A is the fft of the kernel!\n",
    "    y = np.real(np.fft.ifft2(np.conj(A) * np.fft.fft2(x)))\n",
    "    return y\n",
    "\n",
    "def UnderSampling(x,M):\n",
    "    return M@x@M.T\n",
    "\n",
    "def Poisson(x):\n",
    "    return np.random.poisson(x)\n",
    "\n",
    "def KL1(H,M,x,z,bg):\n",
    "    MHx=UnderSampling(H(x),M)\n",
    "    temp=(z!=0)*(z*np.log(z/(MHx+bg)))+MHx+bg-z\n",
    "    return np.sum(temp)\n",
    "\n",
    "def Grad_KL1(H,HT,M,x,z,bg):\n",
    "    MHx=UnderSampling(H(x),M)\n",
    "    return HT(UnderSampling(np.ones(MHx.shape)-z/(MHx+bg),M.T))\n",
    "\n",
    "def operators_poisson(kern,M,lmbd,im,bg):\n",
    "    #kern : kernel\n",
    "    #lmbd : regularization parameter\n",
    "    #im : damaged image\n",
    "    #bg : background value\n",
    "    N=np.max(np.shape(M))\n",
    "    n=np.min(np.shape(M))\n",
    "    PSF = np.fft.fft2(np.fft.fftshift(kern), [N,N])\n",
    "    Convo = lambda x: Convolution(x,PSF)\n",
    "    ConvoT = lambda x: Convolution_adj(x,PSF)\n",
    "    f = lambda x: KL1(Convo,M,x,im,bg)\n",
    "    Df = lambda x: Grad_KL1(Convo,ConvoT,M,x,im,bg)     \n",
    "    h = lambda x: lmbd*np.sum(np.abs(x))\n",
    "    proxh = lambda x,s: (x-lmbd*s)*(x>lmbd*s)\n",
    "    F = lambda x: f(x)+h(x)\n",
    "    im_init=Convo(UnderSampling(im,M.T))\n",
    "    return F,f,h,Df,proxh,im_init"
   ]
  },
  {
   "cell_type": "code",
   "execution_count": null,
   "metadata": {},
   "outputs": [],
   "source": [
    "# Computing the operators for a given set of parameters\n",
    "lmbd=8\n",
    "F,f,h,Df,proxh,im_init=operators_poisson(kern,M,lmbd,im_det,bg)\n",
    "exit_crit = lambda x,y: npl.norm(np.ravel(x-y),2) # exit criteria\n",
    "sp = lambda x,y: np.dot(np.ravel(x),np.ravel(y)) # scalar product considered\n",
    "hv.Image(im_init).opts(**options0)"
   ]
  },
  {
   "cell_type": "markdown",
   "metadata": {},
   "source": [
    "### Applying first-order methods to this problem"
   ]
  },
  {
   "cell_type": "code",
   "execution_count": null,
   "metadata": {},
   "outputs": [],
   "source": [
    "# Documentation for the algorithms:\n",
    "# help(FISTA_BT)\n",
    "# help(Free_FISTA)"
   ]
  },
  {
   "cell_type": "code",
   "execution_count": null,
   "metadata": {},
   "outputs": [],
   "source": [
    "# Defining the parameters of resolution\n",
    "Niter=1000 # Maximum number of iterations\n",
    "L0=100 # Initial estimation of the Lipschitz constant of nabla f (arbitrary)\n",
    "epsilon=1e-6 # Expected accuracy for the composite gradient"
   ]
  },
  {
   "cell_type": "code",
   "execution_count": null,
   "metadata": {},
   "outputs": [],
   "source": [
    "# FISTA with backtracking\n",
    "rho=0.8\n",
    "delta=0.95\n",
    "xBT,cout_BT,ctime_BT,Lk=FISTA_BT(im_init, L0, rho, delta, Niter, epsilon, f, Df, proxh, h, exit_crit, sp,out_L=True,exit_norm=True,track_ctime=True)\n",
    "Plot_BT=To_Plot(cout_BT,\"FISTA with backtracking, rho=%f, delta=%f, L0=%i\"%(rho,delta,L0),ctime_BT)"
   ]
  },
  {
   "cell_type": "code",
   "execution_count": null,
   "metadata": {},
   "outputs": [],
   "source": [
    "# Free FISTA\n",
    "rho=0.8\n",
    "delta=0.95\n",
    "xRBT,cout_BTR,ctime_BTR,tab_L,tab_mu=Free_FISTA(im_init, L0, rho, delta, Niter, epsilon, f, h, Df, proxh,exit_crit=exit_crit, sp=sp, out_cost=True,out_L=True,exit_norm=True,out_condition=True,track_ctime=True)\n",
    "Plot_BTR=To_Plot(cout_BTR,\"Free-FISTA, rho=%f, delta=%f, L0=%i\"%(rho,delta,L0),ctime_BTR)"
   ]
  },
  {
   "cell_type": "code",
   "execution_count": null,
   "metadata": {},
   "outputs": [],
   "source": [
    "Plot([Plot_BT,Plot_BTR],ite=False,eps=1e-5,fontsize = 25)\n",
    "plt.xlabel(\"Computation time (in seconds)\",fontsize=25)\n",
    "plt.ylabel(\"$\\log(F(x_k)-\\hat F)$\",fontsize=25)"
   ]
  },
  {
   "cell_type": "code",
   "execution_count": null,
   "metadata": {},
   "outputs": [],
   "source": [
    "# Displaying the resulting approximation of the solution\n",
    "hv.Image(xBT).opts(**options0)\n"
   ]
  }
 ],
 "metadata": {
  "kernelspec": {
   "display_name": "Python 3",
   "language": "python",
   "name": "python3"
  },
  "language_info": {
   "codemirror_mode": {
    "name": "ipython",
    "version": 3
   },
   "file_extension": ".py",
   "mimetype": "text/x-python",
   "name": "python",
   "nbconvert_exporter": "python",
   "pygments_lexer": "ipython3",
   "version": "3.8.5"
  }
 },
 "nbformat": 4,
 "nbformat_minor": 4
}
